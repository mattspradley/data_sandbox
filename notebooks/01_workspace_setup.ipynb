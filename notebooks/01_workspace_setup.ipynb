{
 "cells": [
  {
   "cell_type": "markdown",
   "id": "7529dc9f",
   "metadata": {},
   "source": [
    "# Workspace Setup Guide\n",
    "\n",
    "This notebook will guide you through setting up a complete data science development workspace.\n",
    "\n",
    "**Prerequisites:**\n",
    "- Python 3.8+ installed\n",
    "- VS Code installed\n",
    "- Git installed\n",
    "\n",
    "Run each cell in order to complete the setup process."
   ]
  },
  {
   "cell_type": "markdown",
   "id": "73ddda6d",
   "metadata": {},
   "source": [
    "## 1. Install Essential Python Packages\n",
    "\n",
    "Let's start by installing the core Python packages for data science and development."
   ]
  },
  {
   "cell_type": "code",
   "execution_count": 1,
   "id": "76e59aff",
   "metadata": {},
   "outputs": [
    {
     "name": "stdout",
     "output_type": "stream",
     "text": [
      "Python version: 3.13.7 (tags/v3.13.7:bcee1c3, Aug 14 2025, 14:15:11) [MSC v.1944 64 bit (AMD64)]\n",
      "Python executable: C:\\Dev\\data_sandbox\\.venv\\Scripts\\python.exe\n"
     ]
    }
   ],
   "source": [
    "# Check Python version\n",
    "import sys\n",
    "print(f\"Python version: {sys.version}\")\n",
    "print(f\"Python executable: {sys.executable}\")"
   ]
  },
  {
   "cell_type": "code",
   "execution_count": 2,
   "id": "11c301c8",
   "metadata": {},
   "outputs": [
    {
     "name": "stdout",
     "output_type": "stream",
     "text": [
      "Installing essential packages...\n",
      "✓ numpy installed successfully\n",
      "✓ pandas installed successfully\n",
      "✓ matplotlib installed successfully\n",
      "✓ seaborn installed successfully\n",
      "✓ scipy installed successfully\n",
      "✓ scikit-learn installed successfully\n",
      "✓ jupyter installed successfully\n",
      "✓ jupyterlab installed successfully\n"
     ]
    }
   ],
   "source": [
    "# Install essential packages\n",
    "import subprocess\n",
    "import sys\n",
    "\n",
    "def install_package(package):\n",
    "    subprocess.check_call([sys.executable, \"-m\", \"pip\", \"install\", package])\n",
    "\n",
    "# Core data science packages\n",
    "essential_packages = [\n",
    "    \"numpy\",\n",
    "    \"pandas\", \n",
    "    \"matplotlib\",\n",
    "    \"seaborn\",\n",
    "    \"scipy\",\n",
    "    \"scikit-learn\",\n",
    "    \"jupyter\",\n",
    "    \"jupyterlab\"\n",
    "]\n",
    "\n",
    "print(\"Installing essential packages...\")\n",
    "for package in essential_packages:\n",
    "    try:\n",
    "        install_package(package)\n",
    "        print(f\"✓ {package} installed successfully\")\n",
    "    except Exception as e:\n",
    "        print(f\"✗ Failed to install {package}: {e}\")"
   ]
  },
  {
   "cell_type": "markdown",
   "id": "f97b7502",
   "metadata": {},
   "source": [
    "## 2. Configure Development Environment\n",
    "\n",
    "Set up environment variables and configurations for our development workspace."
   ]
  },
  {
   "cell_type": "code",
   "execution_count": 3,
   "id": "5e94ac57",
   "metadata": {},
   "outputs": [
    {
     "name": "stdout",
     "output_type": "stream",
     "text": [
      "Workspace path: C:\\Dev\\data_sandbox\\notebooks\n",
      "Environment variables set:\n",
      "  PROJECT_ROOT: C:\\Dev\\data_sandbox\\notebooks\n",
      "  DATA_PATH: C:\\Dev\\data_sandbox\\notebooks\\data\n",
      "  NOTEBOOKS_PATH: C:\\Dev\\data_sandbox\\notebooks\\notebooks\n",
      "  SRC_PATH: C:\\Dev\\data_sandbox\\notebooks\\src\n"
     ]
    }
   ],
   "source": [
    "import os\n",
    "from pathlib import Path\n",
    "\n",
    "# Get current working directory\n",
    "workspace_path = Path.cwd()\n",
    "print(f\"Workspace path: {workspace_path}\")\n",
    "\n",
    "# Set up environment variables for the project\n",
    "os.environ['PROJECT_ROOT'] = str(workspace_path)\n",
    "os.environ['DATA_PATH'] = str(workspace_path / 'data')\n",
    "os.environ['NOTEBOOKS_PATH'] = str(workspace_path / 'notebooks')\n",
    "os.environ['SRC_PATH'] = str(workspace_path / 'src')\n",
    "\n",
    "print(\"Environment variables set:\")\n",
    "for key in ['PROJECT_ROOT', 'DATA_PATH', 'NOTEBOOKS_PATH', 'SRC_PATH']:\n",
    "    print(f\"  {key}: {os.environ.get(key)}\")"
   ]
  },
  {
   "cell_type": "markdown",
   "id": "c56c89d8",
   "metadata": {},
   "source": [
    "## 3. Verify Project Directory Structure\n",
    "\n",
    "Check that our project has the proper directory structure for data science work."
   ]
  },
  {
   "cell_type": "code",
   "execution_count": 4,
   "id": "2148f4bf",
   "metadata": {},
   "outputs": [
    {
     "name": "stdout",
     "output_type": "stream",
     "text": [
      "Checking directory structure in: C:\\Dev\\data_sandbox\\notebooks\n",
      "\n",
      "Directory structure:\n",
      "✗ notebooks/ (missing)\n",
      "  → Created notebooks/\n",
      "✗ data/raw/ (missing)\n",
      "  → Created data/raw/\n",
      "✗ data/processed/ (missing)\n",
      "  → Created data/processed/\n",
      "✗ data/external/ (missing)\n",
      "  → Created data/external/\n",
      "✗ src/ (missing)\n",
      "  → Created src/\n",
      "\n",
      "Current workspace contents:\n",
      "📁 .ipynb_checkpoints/\n",
      "📄 01_workspace_setup.ipynb\n",
      "📄 02_data_exploration_template.ipynb\n",
      "📁 data/\n",
      "📁 notebooks/\n",
      "📁 src/\n"
     ]
    }
   ],
   "source": [
    "import os\n",
    "from pathlib import Path\n",
    "\n",
    "# Define the expected directory structure\n",
    "directories = [\n",
    "    'notebooks',\n",
    "    'data/raw',\n",
    "    'data/processed', \n",
    "    'data/external',\n",
    "    'src'\n",
    "]\n",
    "\n",
    "workspace_root = Path.cwd()\n",
    "print(f\"Checking directory structure in: {workspace_root}\")\n",
    "print(\"\\nDirectory structure:\")\n",
    "\n",
    "for directory in directories:\n",
    "    dir_path = workspace_root / directory\n",
    "    if dir_path.exists():\n",
    "        print(f\"✓ {directory}/\")\n",
    "    else:\n",
    "        print(f\"✗ {directory}/ (missing)\")\n",
    "        # Create missing directories\n",
    "        dir_path.mkdir(parents=True, exist_ok=True)\n",
    "        print(f\"  → Created {directory}/\")\n",
    "\n",
    "# List all files and directories in the workspace\n",
    "print(\"\\nCurrent workspace contents:\")\n",
    "for item in sorted(workspace_root.iterdir()):\n",
    "    if item.is_dir():\n",
    "        print(f\"📁 {item.name}/\")\n",
    "    else:\n",
    "        print(f\"📄 {item.name}\")"
   ]
  },
  {
   "cell_type": "markdown",
   "id": "45839fff",
   "metadata": {},
   "source": [
    "## 4. Initialize Version Control\n",
    "\n",
    "Set up Git repository and basic configuration for version control."
   ]
  },
  {
   "cell_type": "code",
   "execution_count": 5,
   "id": "45c9bce4",
   "metadata": {},
   "outputs": [
    {
     "name": "stdout",
     "output_type": "stream",
     "text": [
      "Initializing Git repository...\n",
      "✓ Git repository initialized\n",
      "\n",
      "Checking Git configuration:\n",
      "✓ Git user.name: Matt Spradley\n",
      "✓ Git user.email: matt.spradley@gmail.com\n",
      "⚠ .gitignore file not found\n"
     ]
    }
   ],
   "source": [
    "import subprocess\n",
    "import os\n",
    "from pathlib import Path\n",
    "\n",
    "def run_git_command(command):\n",
    "    try:\n",
    "        result = subprocess.run(command, shell=True, capture_output=True, text=True, cwd=Path.cwd())\n",
    "        if result.returncode == 0:\n",
    "            return True, result.stdout.strip()\n",
    "        else:\n",
    "            return False, result.stderr.strip()\n",
    "    except Exception as e:\n",
    "        return False, str(e)\n",
    "\n",
    "# Check if git is already initialized\n",
    "git_dir = Path.cwd() / '.git'\n",
    "if git_dir.exists():\n",
    "    print(\"✓ Git repository already initialized\")\n",
    "else:\n",
    "    print(\"Initializing Git repository...\")\n",
    "    success, output = run_git_command('git init')\n",
    "    if success:\n",
    "        print(\"✓ Git repository initialized\")\n",
    "    else:\n",
    "        print(f\"✗ Failed to initialize Git: {output}\")\n",
    "\n",
    "# Check Git configuration\n",
    "print(\"\\nChecking Git configuration:\")\n",
    "success, user_name = run_git_command('git config user.name')\n",
    "success2, user_email = run_git_command('git config user.email')\n",
    "\n",
    "if user_name:\n",
    "    print(f\"✓ Git user.name: {user_name}\")\n",
    "else:\n",
    "    print(\"⚠ Git user.name not set. Run: git config --global user.name 'Your Name'\")\n",
    "    \n",
    "if user_email:\n",
    "    print(f\"✓ Git user.email: {user_email}\")\n",
    "else:\n",
    "    print(\"⚠ Git user.email not set. Run: git config --global user.email 'your.email@example.com'\")\n",
    "\n",
    "# Check if .gitignore exists\n",
    "gitignore_path = Path.cwd() / '.gitignore'\n",
    "if gitignore_path.exists():\n",
    "    print(\"✓ .gitignore file exists\")\n",
    "else:\n",
    "    print(\"⚠ .gitignore file not found\")"
   ]
  },
  {
   "cell_type": "markdown",
   "id": "149ed62f",
   "metadata": {},
   "source": [
    "## 5. Configure IDE Settings\n",
    "\n",
    "Verify VS Code is configured properly for Python development."
   ]
  },
  {
   "cell_type": "code",
   "execution_count": 6,
   "id": "e24c1bed",
   "metadata": {},
   "outputs": [
    {
     "name": "stdout",
     "output_type": "stream",
     "text": [
      "VS Code workspace configuration:\n",
      "⚠ .vscode directory not found\n",
      "  This is normal - VS Code will create it when you open the workspace\n",
      "\n",
      "Recommended VS Code extensions:\n",
      "  • ms-python.python\n",
      "  • ms-python.vscode-python-envs\n",
      "  • ms-toolsai.jupyter\n",
      "  • ms-vscode.vscode-jupyter-slideshow\n",
      "  • donjayamanne.githistory\n",
      "  • eamodio.gitlens\n"
     ]
    }
   ],
   "source": [
    "import json\n",
    "from pathlib import Path\n",
    "\n",
    "# Check if .vscode directory exists\n",
    "vscode_dir = Path.cwd() / '.vscode'\n",
    "settings_file = vscode_dir / 'settings.json'\n",
    "\n",
    "print(\"VS Code workspace configuration:\")\n",
    "if vscode_dir.exists():\n",
    "    print(\"✓ .vscode directory exists\")\n",
    "    \n",
    "    if settings_file.exists():\n",
    "        print(\"✓ settings.json exists\")\n",
    "        try:\n",
    "            with open(settings_file, 'r') as f:\n",
    "                settings = json.load(f)\n",
    "            print(\"Current workspace settings:\")\n",
    "            for key, value in settings.items():\n",
    "                print(f\"  {key}: {value}\")\n",
    "        except Exception as e:\n",
    "            print(f\"⚠ Error reading settings.json: {e}\")\n",
    "    else:\n",
    "        print(\"⚠ settings.json not found\")\n",
    "else:\n",
    "    print(\"⚠ .vscode directory not found\")\n",
    "    print(\"  This is normal - VS Code will create it when you open the workspace\")\n",
    "\n",
    "# Recommended VS Code extensions for data science\n",
    "recommended_extensions = [\n",
    "    \"ms-python.python\",\n",
    "    \"ms-python.vscode-python-envs\", \n",
    "    \"ms-toolsai.jupyter\",\n",
    "    \"ms-vscode.vscode-jupyter-slideshow\",\n",
    "    \"donjayamanne.githistory\",\n",
    "    \"eamodio.gitlens\"\n",
    "]\n",
    "\n",
    "print(\"\\nRecommended VS Code extensions:\")\n",
    "for ext in recommended_extensions:\n",
    "    print(f\"  • {ext}\")"
   ]
  },
  {
   "cell_type": "markdown",
   "id": "f1869378",
   "metadata": {},
   "source": [
    "## 6. Create Virtual Environment\n",
    "\n",
    "Set up a Python virtual environment and install project dependencies."
   ]
  },
  {
   "cell_type": "code",
   "execution_count": 7,
   "id": "408c91c3",
   "metadata": {},
   "outputs": [
    {
     "name": "stdout",
     "output_type": "stream",
     "text": [
      "Current Python executable: C:\\Dev\\data_sandbox\\.venv\\Scripts\\python.exe\n",
      "Current working directory: C:\\Dev\\data_sandbox\\notebooks\n",
      "In virtual environment: True\n",
      "✓ Already in a virtual environment\n",
      "Virtual environment path: C:\\Dev\\data_sandbox\\.venv\n",
      "\n",
      "⚠ requirements.txt not found\n"
     ]
    }
   ],
   "source": [
    "import subprocess\n",
    "import sys\n",
    "from pathlib import Path\n",
    "\n",
    "# Check current Python environment\n",
    "print(f\"Current Python executable: {sys.executable}\")\n",
    "print(f\"Current working directory: {Path.cwd()}\")\n",
    "\n",
    "# Check if we're in a virtual environment\n",
    "in_venv = hasattr(sys, 'real_prefix') or (hasattr(sys, 'base_prefix') and sys.base_prefix != sys.prefix)\n",
    "print(f\"In virtual environment: {in_venv}\")\n",
    "\n",
    "if in_venv:\n",
    "    print(\"✓ Already in a virtual environment\")\n",
    "    venv_path = Path(sys.executable).parent.parent\n",
    "    print(f\"Virtual environment path: {venv_path}\")\n",
    "else:\n",
    "    print(\"⚠ Not in a virtual environment\")\n",
    "    print(\"Consider creating and activating a virtual environment:\")\n",
    "    print(\"  python -m venv data_sandbox_env\")\n",
    "    print(\"  # On Windows: data_sandbox_env\\\\Scripts\\\\activate\")\n",
    "    print(\"  # On macOS/Linux: source data_sandbox_env/bin/activate\")\n",
    "\n",
    "# Check if requirements.txt exists\n",
    "requirements_file = Path.cwd() / 'requirements.txt'\n",
    "if requirements_file.exists():\n",
    "    print(\"\\n✓ requirements.txt found\")\n",
    "    print(\"\\nTo install requirements, run:\")\n",
    "    print(\"  pip install -r requirements.txt\")\n",
    "    \n",
    "    # Show requirements content\n",
    "    print(\"\\nCurrent requirements:\")\n",
    "    with open(requirements_file, 'r') as f:\n",
    "        for line in f:\n",
    "            if line.strip() and not line.strip().startswith('#'):\n",
    "                print(f\"  • {line.strip()}\")\n",
    "else:\n",
    "    print(\"\\n⚠ requirements.txt not found\")"
   ]
  },
  {
   "cell_type": "markdown",
   "id": "fa8436c8",
   "metadata": {},
   "source": [
    "## 7. Install and Configure Jupyter Extensions\n",
    "\n",
    "Set up useful Jupyter extensions and configurations for improved productivity."
   ]
  },
  {
   "cell_type": "code",
   "execution_count": 8,
   "id": "87556b74",
   "metadata": {},
   "outputs": [
    {
     "name": "stdout",
     "output_type": "stream",
     "text": [
      "✓ Jupyter and JupyterLab are installed\n"
     ]
    },
    {
     "ename": "AttributeError",
     "evalue": "module 'jupyter' has no attribute '__version__'",
     "output_type": "error",
     "traceback": [
      "\u001b[31m---------------------------------------------------------------------------\u001b[39m",
      "\u001b[31mAttributeError\u001b[39m                            Traceback (most recent call last)",
      "\u001b[36mCell\u001b[39m\u001b[36m \u001b[39m\u001b[32mIn[8]\u001b[39m\u001b[32m, line 6\u001b[39m\n\u001b[32m      4\u001b[39m     \u001b[38;5;28;01mimport\u001b[39;00m\u001b[38;5;250m \u001b[39m\u001b[34;01mjupyterlab\u001b[39;00m\n\u001b[32m      5\u001b[39m     \u001b[38;5;28mprint\u001b[39m(\u001b[33m\"\u001b[39m\u001b[33m✓ Jupyter and JupyterLab are installed\u001b[39m\u001b[33m\"\u001b[39m)\n\u001b[32m----> \u001b[39m\u001b[32m6\u001b[39m     \u001b[38;5;28mprint\u001b[39m(\u001b[33mf\u001b[39m\u001b[33m\"\u001b[39m\u001b[33mJupyter version: \u001b[39m\u001b[38;5;132;01m{\u001b[39;00m\u001b[43mjupyter\u001b[49m\u001b[43m.\u001b[49m\u001b[43m__version__\u001b[49m\u001b[38;5;132;01m}\u001b[39;00m\u001b[33m\"\u001b[39m)\n\u001b[32m      7\u001b[39m     \u001b[38;5;28mprint\u001b[39m(\u001b[33mf\u001b[39m\u001b[33m\"\u001b[39m\u001b[33mJupyterLab version: \u001b[39m\u001b[38;5;132;01m{\u001b[39;00mjupyterlab.__version__\u001b[38;5;132;01m}\u001b[39;00m\u001b[33m\"\u001b[39m)\n\u001b[32m      8\u001b[39m \u001b[38;5;28;01mexcept\u001b[39;00m \u001b[38;5;167;01mImportError\u001b[39;00m \u001b[38;5;28;01mas\u001b[39;00m e:\n",
      "\u001b[31mAttributeError\u001b[39m: module 'jupyter' has no attribute '__version__'"
     ]
    }
   ],
   "source": [
    "# Check Jupyter installation\n",
    "try:\n",
    "    import jupyter\n",
    "    import jupyterlab\n",
    "    print(\"✓ Jupyter and JupyterLab are installed\")\n",
    "    print(f\"Jupyter version: {jupyter.__version__}\")\n",
    "    print(f\"JupyterLab version: {jupyterlab.__version__}\")\n",
    "except ImportError as e:\n",
    "    print(f\"⚠ Jupyter not fully installed: {e}\")\n",
    "    print(\"Install with: pip install jupyter jupyterlab\")\n",
    "\n",
    "# Check for useful libraries\n",
    "libraries_to_check = {\n",
    "    'numpy': 'np',\n",
    "    'pandas': 'pd', \n",
    "    'matplotlib': 'plt',\n",
    "    'seaborn': 'sns',\n",
    "    'plotly': 'plotly'\n",
    "}\n",
    "\n",
    "print(\"\\nChecking data science libraries:\")\n",
    "available_imports = []\n",
    "\n",
    "for lib, alias in libraries_to_check.items():\n",
    "    try:\n",
    "        exec(f\"import {lib}\")\n",
    "        print(f\"✓ {lib} available\")\n",
    "        available_imports.append(f\"import {lib} as {alias}\" if alias != lib else f\"import {lib}\")\n",
    "    except ImportError:\n",
    "        print(f\"✗ {lib} not available\")\n",
    "\n",
    "# Generate common imports for notebooks\n",
    "if available_imports:\n",
    "    print(\"\\nCommon imports for your notebooks:\")\n",
    "    print(\"```python\")\n",
    "    for imp in available_imports:\n",
    "        print(imp)\n",
    "    if 'matplotlib' in [imp.split()[1] for imp in available_imports]:\n",
    "        print(\"%matplotlib inline\")\n",
    "    print(\"```\")"
   ]
  },
  {
   "cell_type": "markdown",
   "id": "33186958",
   "metadata": {},
   "source": [
    "## Setup Complete! 🎉\n",
    "\n",
    "Your data science workspace is now set up and ready to use.\n",
    "\n",
    "### Next Steps:\n",
    "\n",
    "1. **Start exploring**: Create new notebooks in the `notebooks/` folder\n",
    "2. **Add data**: Place your datasets in the `data/raw/` folder\n",
    "3. **Write reusable code**: Add Python modules to the `src/` folder\n",
    "4. **Version control**: Commit your initial setup with Git\n",
    "\n",
    "### Quick Commands:\n",
    "\n",
    "- Start JupyterLab: `jupyter lab`\n",
    "- Install packages: `pip install package_name`\n",
    "- Update requirements: `pip freeze > requirements.txt`\n",
    "\n",
    "Happy coding! 🚀"
   ]
  },
  {
   "cell_type": "code",
   "execution_count": null,
   "id": "6371b098-9765-49bb-af96-36899d6e027f",
   "metadata": {},
   "outputs": [],
   "source": []
  }
 ],
 "metadata": {
  "kernelspec": {
   "display_name": "Python 3 (ipykernel)",
   "language": "python",
   "name": "python3"
  },
  "language_info": {
   "codemirror_mode": {
    "name": "ipython",
    "version": 3
   },
   "file_extension": ".py",
   "mimetype": "text/x-python",
   "name": "python",
   "nbconvert_exporter": "python",
   "pygments_lexer": "ipython3",
   "version": "3.13.7"
  }
 },
 "nbformat": 4,
 "nbformat_minor": 5
}
