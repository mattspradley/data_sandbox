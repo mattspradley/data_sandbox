{
 "cells": [
  {
   "cell_type": "markdown",
   "id": "d2a5a4a7",
   "metadata": {},
   "source": [
    "# Data Exploration Template\n",
    "\n",
    "This notebook provides a template for exploring new datasets.\n",
    "\n",
    "**Dataset:** [Replace with your dataset name]\n",
    "**Date:** [Replace with current date]\n",
    "**Author:** [Your name]"
   ]
  },
  {
   "cell_type": "markdown",
   "id": "1baa23cb",
   "metadata": {},
   "source": [
    "## 1. Import Libraries"
   ]
  },
  {
   "cell_type": "code",
   "execution_count": 1,
   "id": "689b2664",
   "metadata": {},
   "outputs": [
    {
     "name": "stdout",
     "output_type": "stream",
     "text": [
      "Libraries imported successfully!\n"
     ]
    }
   ],
   "source": [
    "# Data manipulation and analysis\n",
    "import pandas as pd\n",
    "import numpy as np\n",
    "\n",
    "# Data visualization\n",
    "import matplotlib.pyplot as plt\n",
    "import seaborn as sns\n",
    "\n",
    "# Configure plotting\n",
    "%matplotlib inline\n",
    "plt.style.use('default')\n",
    "sns.set_palette(\"husl\")\n",
    "\n",
    "# Display options\n",
    "pd.set_option('display.max_columns', None)\n",
    "pd.set_option('display.max_rows', 100)\n",
    "\n",
    "print(\"Libraries imported successfully!\")"
   ]
  },
  {
   "cell_type": "markdown",
   "id": "8c85f7f9",
   "metadata": {},
   "source": [
    "## 2. Load Data"
   ]
  },
  {
   "cell_type": "code",
   "execution_count": 2,
   "id": "e761be7b",
   "metadata": {},
   "outputs": [
    {
     "name": "stdout",
     "output_type": "stream",
     "text": [
      "Dataset loaded successfully!\n",
      "Shape: (1000, 6)\n"
     ]
    }
   ],
   "source": [
    "# Load your dataset here\n",
    "# Example: df = pd.read_csv('../data/raw/your_dataset.csv')\n",
    "\n",
    "# For demonstration, let's create a sample dataset\n",
    "np.random.seed(42)\n",
    "n_samples = 1000\n",
    "\n",
    "df = pd.DataFrame({\n",
    "    'id': range(1, n_samples + 1),\n",
    "    'age': np.random.randint(18, 65, n_samples),\n",
    "    'income': np.random.normal(50000, 15000, n_samples),\n",
    "    'score': np.random.uniform(0, 100, n_samples),\n",
    "    'category': np.random.choice(['A', 'B', 'C', 'D'], n_samples),\n",
    "    'is_active': np.random.choice([True, False], n_samples, p=[0.7, 0.3])\n",
    "})\n",
    "\n",
    "# Introduce some missing values\n",
    "missing_indices = np.random.choice(df.index, size=int(0.05 * n_samples), replace=False)\n",
    "df.loc[missing_indices, 'income'] = np.nan\n",
    "\n",
    "print(f\"Dataset loaded successfully!\")\n",
    "print(f\"Shape: {df.shape}\")"
   ]
  },
  {
   "cell_type": "markdown",
   "id": "fc171669",
   "metadata": {},
   "source": [
    "## 3. Initial Data Exploration"
   ]
  },
  {
   "cell_type": "code",
   "execution_count": 3,
   "id": "fd85a8e2",
   "metadata": {},
   "outputs": [
    {
     "name": "stdout",
     "output_type": "stream",
     "text": [
      "=== DATASET OVERVIEW ===\n",
      "Shape: (1000, 6)\n",
      "Columns: ['id', 'age', 'income', 'score', 'category', 'is_active']\n",
      "\n",
      "=== DATA TYPES ===\n",
      "id             int64\n",
      "age            int32\n",
      "income       float64\n",
      "score        float64\n",
      "category      object\n",
      "is_active       bool\n",
      "dtype: object\n",
      "\n",
      "=== MEMORY USAGE ===\n",
      "Index          132\n",
      "id            8000\n",
      "age           4000\n",
      "income        8000\n",
      "score         8000\n",
      "category     50000\n",
      "is_active     1000\n",
      "dtype: int64\n"
     ]
    }
   ],
   "source": [
    "# Basic information about the dataset\n",
    "print(\"=== DATASET OVERVIEW ===\")\n",
    "print(f\"Shape: {df.shape}\")\n",
    "print(f\"Columns: {list(df.columns)}\")\n",
    "print(\"\\n=== DATA TYPES ===\")\n",
    "print(df.dtypes)\n",
    "print(\"\\n=== MEMORY USAGE ===\")\n",
    "print(df.memory_usage(deep=True))"
   ]
  },
  {
   "cell_type": "code",
   "execution_count": 4,
   "id": "48df4d3f",
   "metadata": {},
   "outputs": [
    {
     "name": "stdout",
     "output_type": "stream",
     "text": [
      "=== FIRST 5 ROWS ===\n"
     ]
    },
    {
     "data": {
      "text/html": [
       "<div>\n",
       "<style scoped>\n",
       "    .dataframe tbody tr th:only-of-type {\n",
       "        vertical-align: middle;\n",
       "    }\n",
       "\n",
       "    .dataframe tbody tr th {\n",
       "        vertical-align: top;\n",
       "    }\n",
       "\n",
       "    .dataframe thead th {\n",
       "        text-align: right;\n",
       "    }\n",
       "</style>\n",
       "<table border=\"1\" class=\"dataframe\">\n",
       "  <thead>\n",
       "    <tr style=\"text-align: right;\">\n",
       "      <th></th>\n",
       "      <th>id</th>\n",
       "      <th>age</th>\n",
       "      <th>income</th>\n",
       "      <th>score</th>\n",
       "      <th>category</th>\n",
       "      <th>is_active</th>\n",
       "    </tr>\n",
       "  </thead>\n",
       "  <tbody>\n",
       "    <tr>\n",
       "      <th>0</th>\n",
       "      <td>1</td>\n",
       "      <td>56</td>\n",
       "      <td>65094.392138</td>\n",
       "      <td>45.818689</td>\n",
       "      <td>C</td>\n",
       "      <td>True</td>\n",
       "    </tr>\n",
       "    <tr>\n",
       "      <th>1</th>\n",
       "      <td>2</td>\n",
       "      <td>46</td>\n",
       "      <td>41346.621957</td>\n",
       "      <td>48.296887</td>\n",
       "      <td>A</td>\n",
       "      <td>False</td>\n",
       "    </tr>\n",
       "    <tr>\n",
       "      <th>2</th>\n",
       "      <td>3</td>\n",
       "      <td>32</td>\n",
       "      <td>62535.381681</td>\n",
       "      <td>13.347997</td>\n",
       "      <td>C</td>\n",
       "      <td>True</td>\n",
       "    </tr>\n",
       "    <tr>\n",
       "      <th>3</th>\n",
       "      <td>4</td>\n",
       "      <td>60</td>\n",
       "      <td>33054.397180</td>\n",
       "      <td>8.060151</td>\n",
       "      <td>B</td>\n",
       "      <td>True</td>\n",
       "    </tr>\n",
       "    <tr>\n",
       "      <th>4</th>\n",
       "      <td>5</td>\n",
       "      <td>25</td>\n",
       "      <td>NaN</td>\n",
       "      <td>72.793931</td>\n",
       "      <td>A</td>\n",
       "      <td>True</td>\n",
       "    </tr>\n",
       "  </tbody>\n",
       "</table>\n",
       "</div>"
      ],
      "text/plain": [
       "   id  age        income      score category  is_active\n",
       "0   1   56  65094.392138  45.818689        C       True\n",
       "1   2   46  41346.621957  48.296887        A      False\n",
       "2   3   32  62535.381681  13.347997        C       True\n",
       "3   4   60  33054.397180   8.060151        B       True\n",
       "4   5   25           NaN  72.793931        A       True"
      ]
     },
     "metadata": {},
     "output_type": "display_data"
    },
    {
     "name": "stdout",
     "output_type": "stream",
     "text": [
      "\n",
      "=== LAST 5 ROWS ===\n"
     ]
    },
    {
     "data": {
      "text/html": [
       "<div>\n",
       "<style scoped>\n",
       "    .dataframe tbody tr th:only-of-type {\n",
       "        vertical-align: middle;\n",
       "    }\n",
       "\n",
       "    .dataframe tbody tr th {\n",
       "        vertical-align: top;\n",
       "    }\n",
       "\n",
       "    .dataframe thead th {\n",
       "        text-align: right;\n",
       "    }\n",
       "</style>\n",
       "<table border=\"1\" class=\"dataframe\">\n",
       "  <thead>\n",
       "    <tr style=\"text-align: right;\">\n",
       "      <th></th>\n",
       "      <th>id</th>\n",
       "      <th>age</th>\n",
       "      <th>income</th>\n",
       "      <th>score</th>\n",
       "      <th>category</th>\n",
       "      <th>is_active</th>\n",
       "    </tr>\n",
       "  </thead>\n",
       "  <tbody>\n",
       "    <tr>\n",
       "      <th>995</th>\n",
       "      <td>996</td>\n",
       "      <td>22</td>\n",
       "      <td>47785.961206</td>\n",
       "      <td>1.141798</td>\n",
       "      <td>A</td>\n",
       "      <td>True</td>\n",
       "    </tr>\n",
       "    <tr>\n",
       "      <th>996</th>\n",
       "      <td>997</td>\n",
       "      <td>40</td>\n",
       "      <td>43009.452472</td>\n",
       "      <td>70.369978</td>\n",
       "      <td>A</td>\n",
       "      <td>True</td>\n",
       "    </tr>\n",
       "    <tr>\n",
       "      <th>997</th>\n",
       "      <td>998</td>\n",
       "      <td>27</td>\n",
       "      <td>26079.453991</td>\n",
       "      <td>97.025711</td>\n",
       "      <td>B</td>\n",
       "      <td>True</td>\n",
       "    </tr>\n",
       "    <tr>\n",
       "      <th>998</th>\n",
       "      <td>999</td>\n",
       "      <td>61</td>\n",
       "      <td>57704.001599</td>\n",
       "      <td>43.766133</td>\n",
       "      <td>A</td>\n",
       "      <td>True</td>\n",
       "    </tr>\n",
       "    <tr>\n",
       "      <th>999</th>\n",
       "      <td>1000</td>\n",
       "      <td>19</td>\n",
       "      <td>42009.487405</td>\n",
       "      <td>23.497340</td>\n",
       "      <td>A</td>\n",
       "      <td>True</td>\n",
       "    </tr>\n",
       "  </tbody>\n",
       "</table>\n",
       "</div>"
      ],
      "text/plain": [
       "       id  age        income      score category  is_active\n",
       "995   996   22  47785.961206   1.141798        A       True\n",
       "996   997   40  43009.452472  70.369978        A       True\n",
       "997   998   27  26079.453991  97.025711        B       True\n",
       "998   999   61  57704.001599  43.766133        A       True\n",
       "999  1000   19  42009.487405  23.497340        A       True"
      ]
     },
     "metadata": {},
     "output_type": "display_data"
    }
   ],
   "source": [
    "# First few rows\n",
    "print(\"=== FIRST 5 ROWS ===\")\n",
    "display(df.head())\n",
    "\n",
    "print(\"\\n=== LAST 5 ROWS ===\")\n",
    "display(df.tail())"
   ]
  },
  {
   "cell_type": "code",
   "execution_count": 5,
   "id": "b88c0136",
   "metadata": {},
   "outputs": [
    {
     "name": "stdout",
     "output_type": "stream",
     "text": [
      "=== STATISTICAL SUMMARY ===\n"
     ]
    },
    {
     "data": {
      "text/html": [
       "<div>\n",
       "<style scoped>\n",
       "    .dataframe tbody tr th:only-of-type {\n",
       "        vertical-align: middle;\n",
       "    }\n",
       "\n",
       "    .dataframe tbody tr th {\n",
       "        vertical-align: top;\n",
       "    }\n",
       "\n",
       "    .dataframe thead th {\n",
       "        text-align: right;\n",
       "    }\n",
       "</style>\n",
       "<table border=\"1\" class=\"dataframe\">\n",
       "  <thead>\n",
       "    <tr style=\"text-align: right;\">\n",
       "      <th></th>\n",
       "      <th>id</th>\n",
       "      <th>age</th>\n",
       "      <th>income</th>\n",
       "      <th>score</th>\n",
       "      <th>category</th>\n",
       "      <th>is_active</th>\n",
       "    </tr>\n",
       "  </thead>\n",
       "  <tbody>\n",
       "    <tr>\n",
       "      <th>count</th>\n",
       "      <td>1000.000000</td>\n",
       "      <td>1000.000000</td>\n",
       "      <td>950.000000</td>\n",
       "      <td>1000.000000</td>\n",
       "      <td>1000</td>\n",
       "      <td>1000</td>\n",
       "    </tr>\n",
       "    <tr>\n",
       "      <th>unique</th>\n",
       "      <td>NaN</td>\n",
       "      <td>NaN</td>\n",
       "      <td>NaN</td>\n",
       "      <td>NaN</td>\n",
       "      <td>4</td>\n",
       "      <td>2</td>\n",
       "    </tr>\n",
       "    <tr>\n",
       "      <th>top</th>\n",
       "      <td>NaN</td>\n",
       "      <td>NaN</td>\n",
       "      <td>NaN</td>\n",
       "      <td>NaN</td>\n",
       "      <td>C</td>\n",
       "      <td>True</td>\n",
       "    </tr>\n",
       "    <tr>\n",
       "      <th>freq</th>\n",
       "      <td>NaN</td>\n",
       "      <td>NaN</td>\n",
       "      <td>NaN</td>\n",
       "      <td>NaN</td>\n",
       "      <td>260</td>\n",
       "      <td>732</td>\n",
       "    </tr>\n",
       "    <tr>\n",
       "      <th>mean</th>\n",
       "      <td>500.500000</td>\n",
       "      <td>40.986000</td>\n",
       "      <td>51311.910996</td>\n",
       "      <td>50.066779</td>\n",
       "      <td>NaN</td>\n",
       "      <td>NaN</td>\n",
       "    </tr>\n",
       "    <tr>\n",
       "      <th>std</th>\n",
       "      <td>288.819436</td>\n",
       "      <td>13.497852</td>\n",
       "      <td>14806.886356</td>\n",
       "      <td>29.055327</td>\n",
       "      <td>NaN</td>\n",
       "      <td>NaN</td>\n",
       "    </tr>\n",
       "    <tr>\n",
       "      <th>min</th>\n",
       "      <td>1.000000</td>\n",
       "      <td>18.000000</td>\n",
       "      <td>6556.169327</td>\n",
       "      <td>0.001163</td>\n",
       "      <td>NaN</td>\n",
       "      <td>NaN</td>\n",
       "    </tr>\n",
       "    <tr>\n",
       "      <th>25%</th>\n",
       "      <td>250.750000</td>\n",
       "      <td>29.000000</td>\n",
       "      <td>41536.919650</td>\n",
       "      <td>26.009459</td>\n",
       "      <td>NaN</td>\n",
       "      <td>NaN</td>\n",
       "    </tr>\n",
       "    <tr>\n",
       "      <th>50%</th>\n",
       "      <td>500.500000</td>\n",
       "      <td>42.000000</td>\n",
       "      <td>51146.204619</td>\n",
       "      <td>49.767618</td>\n",
       "      <td>NaN</td>\n",
       "      <td>NaN</td>\n",
       "    </tr>\n",
       "    <tr>\n",
       "      <th>75%</th>\n",
       "      <td>750.250000</td>\n",
       "      <td>52.000000</td>\n",
       "      <td>60632.628950</td>\n",
       "      <td>75.634809</td>\n",
       "      <td>NaN</td>\n",
       "      <td>NaN</td>\n",
       "    </tr>\n",
       "    <tr>\n",
       "      <th>max</th>\n",
       "      <td>1000.000000</td>\n",
       "      <td>64.000000</td>\n",
       "      <td>89485.730973</td>\n",
       "      <td>99.782086</td>\n",
       "      <td>NaN</td>\n",
       "      <td>NaN</td>\n",
       "    </tr>\n",
       "  </tbody>\n",
       "</table>\n",
       "</div>"
      ],
      "text/plain": [
       "                 id          age        income        score category is_active\n",
       "count   1000.000000  1000.000000    950.000000  1000.000000     1000      1000\n",
       "unique          NaN          NaN           NaN          NaN        4         2\n",
       "top             NaN          NaN           NaN          NaN        C      True\n",
       "freq            NaN          NaN           NaN          NaN      260       732\n",
       "mean     500.500000    40.986000  51311.910996    50.066779      NaN       NaN\n",
       "std      288.819436    13.497852  14806.886356    29.055327      NaN       NaN\n",
       "min        1.000000    18.000000   6556.169327     0.001163      NaN       NaN\n",
       "25%      250.750000    29.000000  41536.919650    26.009459      NaN       NaN\n",
       "50%      500.500000    42.000000  51146.204619    49.767618      NaN       NaN\n",
       "75%      750.250000    52.000000  60632.628950    75.634809      NaN       NaN\n",
       "max     1000.000000    64.000000  89485.730973    99.782086      NaN       NaN"
      ]
     },
     "metadata": {},
     "output_type": "display_data"
    }
   ],
   "source": [
    "# Statistical summary\n",
    "print(\"=== STATISTICAL SUMMARY ===\")\n",
    "display(df.describe(include='all'))"
   ]
  },
  {
   "cell_type": "markdown",
   "id": "57584143",
   "metadata": {},
   "source": [
    "## 4. Data Quality Assessment"
   ]
  },
  {
   "cell_type": "code",
   "execution_count": 6,
   "id": "bdc32a8b",
   "metadata": {},
   "outputs": [
    {
     "name": "stdout",
     "output_type": "stream",
     "text": [
      "=== MISSING VALUES ===\n"
     ]
    },
    {
     "data": {
      "text/html": [
       "<div>\n",
       "<style scoped>\n",
       "    .dataframe tbody tr th:only-of-type {\n",
       "        vertical-align: middle;\n",
       "    }\n",
       "\n",
       "    .dataframe tbody tr th {\n",
       "        vertical-align: top;\n",
       "    }\n",
       "\n",
       "    .dataframe thead th {\n",
       "        text-align: right;\n",
       "    }\n",
       "</style>\n",
       "<table border=\"1\" class=\"dataframe\">\n",
       "  <thead>\n",
       "    <tr style=\"text-align: right;\">\n",
       "      <th></th>\n",
       "      <th>Missing Count</th>\n",
       "      <th>Missing Percentage</th>\n",
       "    </tr>\n",
       "  </thead>\n",
       "  <tbody>\n",
       "    <tr>\n",
       "      <th>income</th>\n",
       "      <td>50</td>\n",
       "      <td>5.0</td>\n",
       "    </tr>\n",
       "  </tbody>\n",
       "</table>\n",
       "</div>"
      ],
      "text/plain": [
       "        Missing Count  Missing Percentage\n",
       "income             50                 5.0"
      ]
     },
     "metadata": {},
     "output_type": "display_data"
    }
   ],
   "source": [
    "# Missing values analysis\n",
    "print(\"=== MISSING VALUES ===\")\n",
    "missing_data = df.isnull().sum()\n",
    "missing_percent = (missing_data / len(df)) * 100\n",
    "\n",
    "missing_df = pd.DataFrame({\n",
    "    'Missing Count': missing_data,\n",
    "    'Missing Percentage': missing_percent\n",
    "})\n",
    "missing_df = missing_df[missing_df['Missing Count'] > 0].sort_values('Missing Count', ascending=False)\n",
    "\n",
    "if len(missing_df) > 0:\n",
    "    display(missing_df)\n",
    "else:\n",
    "    print(\"No missing values found!\")"
   ]
  },
  {
   "cell_type": "code",
   "execution_count": 7,
   "id": "2e5e74c5",
   "metadata": {},
   "outputs": [
    {
     "name": "stdout",
     "output_type": "stream",
     "text": [
      "=== DUPLICATE ROWS ===\n",
      "Number of duplicate rows: 0\n"
     ]
    }
   ],
   "source": [
    "# Duplicate rows\n",
    "duplicates = df.duplicated().sum()\n",
    "print(f\"=== DUPLICATE ROWS ===\")\n",
    "print(f\"Number of duplicate rows: {duplicates}\")\n",
    "\n",
    "if duplicates > 0:\n",
    "    print(\"\\nDuplicate rows:\")\n",
    "    display(df[df.duplicated()])"
   ]
  },
  {
   "cell_type": "code",
   "execution_count": 8,
   "id": "66c81da8",
   "metadata": {},
   "outputs": [
    {
     "name": "stdout",
     "output_type": "stream",
     "text": [
      "=== UNIQUE VALUES PER COLUMN ===\n",
      "id: 1000 unique values\n",
      "\n",
      "age: 47 unique values\n",
      "\n",
      "income: 950 unique values\n",
      "\n",
      "score: 1000 unique values\n",
      "\n",
      "category: 4 unique values\n",
      "  Values: ['A', 'B', 'C', 'D']\n",
      "\n",
      "is_active: 2 unique values\n",
      "  Values: [np.False_, np.True_]\n",
      "\n"
     ]
    }
   ],
   "source": [
    "# Data types and unique values\n",
    "print(\"=== UNIQUE VALUES PER COLUMN ===\")\n",
    "for col in df.columns:\n",
    "    unique_count = df[col].nunique()\n",
    "    print(f\"{col}: {unique_count} unique values\")\n",
    "    \n",
    "    # Show unique values for categorical columns\n",
    "    if df[col].dtype == 'object' or unique_count < 10:\n",
    "        print(f\"  Values: {sorted(df[col].unique())}\")\n",
    "    print()"
   ]
  },
  {
   "cell_type": "markdown",
   "id": "f1b00f1d",
   "metadata": {},
   "source": [
    "## 5. Data Visualization"
   ]
  },
  {
   "cell_type": "code",
   "execution_count": 9,
   "id": "3803930c",
   "metadata": {},
   "outputs": [
    {
     "data": {
      "image/png": "[encoded data removed]",
      "text/plain": [
       "<Figure size 1500x1000 with 4 Axes>"
      ]
     },
     "metadata": {},
     "output_type": "display_data"
    }
   ],
   "source": [
    "# Distribution of numerical variables\n",
    "numerical_cols = df.select_dtypes(include=[np.number]).columns\n",
    "\n",
    "if len(numerical_cols) > 0:\n",
    "    fig, axes = plt.subplots(2, 2, figsize=(15, 10))\n",
    "    axes = axes.ravel()\n",
    "    \n",
    "    for i, col in enumerate(numerical_cols[:4]):\n",
    "        if i < len(axes):\n",
    "            df[col].hist(bins=30, ax=axes[i], alpha=0.7)\n",
    "            axes[i].set_title(f'Distribution of {col}')\n",
    "            axes[i].set_xlabel(col)\n",
    "            axes[i].set_ylabel('Frequency')\n",
    "    \n",
    "    # Hide empty subplots\n",
    "    for j in range(len(numerical_cols), len(axes)):\n",
    "        axes[j].set_visible(False)\n",
    "    \n",
    "    plt.tight_layout()\n",
    "    plt.show()\n",
    "else:\n",
    "    print(\"No numerical columns found for distribution plots.\")"
   ]
  },
  {
   "cell_type": "code",
   "execution_count": 10,
   "id": "36538c41",
   "metadata": {},
   "outputs": [
    {
     "data": {
      "image/png": "[encoded data removed]",
      "text/plain": [
       "<Figure size 1000x800 with 2 Axes>"
      ]
     },
     "metadata": {},
     "output_type": "display_data"
    }
   ],
   "source": [
    "# Correlation matrix for numerical variables\n",
    "if len(numerical_cols) > 1:\n",
    "    plt.figure(figsize=(10, 8))\n",
    "    correlation_matrix = df[numerical_cols].corr()\n",
    "    \n",
    "    sns.heatmap(correlation_matrix, \n",
    "                annot=True, \n",
    "                cmap='coolwarm', \n",
    "                center=0,\n",
    "                square=True,\n",
    "                fmt='.2f')\n",
    "    plt.title('Correlation Matrix')\n",
    "    plt.tight_layout()\n",
    "    plt.show()\n",
    "else:\n",
    "    print(\"Need at least 2 numerical columns for correlation analysis.\")"
   ]
  },
  {
   "cell_type": "code",
   "execution_count": 11,
   "id": "03667f41",
   "metadata": {},
   "outputs": [
    {
     "data": {
      "image/png": "[encoded data removed]",
      "text/plain": [
       "<Figure size 1500x500 with 2 Axes>"
      ]
     },
     "metadata": {},
     "output_type": "display_data"
    }
   ],
   "source": [
    "# Categorical variables visualization\n",
    "categorical_cols = df.select_dtypes(include=['object', 'bool']).columns\n",
    "\n",
    "if len(categorical_cols) > 0:\n",
    "    fig, axes = plt.subplots(1, min(len(categorical_cols), 3), figsize=(15, 5))\n",
    "    if len(categorical_cols) == 1:\n",
    "        axes = [axes]\n",
    "    \n",
    "    for i, col in enumerate(categorical_cols[:3]):\n",
    "        if i < len(axes):\n",
    "            value_counts = df[col].value_counts()\n",
    "            value_counts.plot(kind='bar', ax=axes[i], alpha=0.7)\n",
    "            axes[i].set_title(f'Distribution of {col}')\n",
    "            axes[i].set_xlabel(col)\n",
    "            axes[i].set_ylabel('Count')\n",
    "            axes[i].tick_params(axis='x', rotation=45)\n",
    "    \n",
    "    plt.tight_layout()\n",
    "    plt.show()\n",
    "else:\n",
    "    print(\"No categorical columns found for visualization.\")"
   ]
  },
  {
   "cell_type": "markdown",
   "id": "053f762c",
   "metadata": {},
   "source": [
    "## 6. Outlier Detection"
   ]
  },
  {
   "cell_type": "code",
   "execution_count": 12,
   "id": "6bc97769",
   "metadata": {},
   "outputs": [
    {
     "data": {
      "image/png": "[encoded data removed]",
      "text/plain": [
       "<Figure size 1600x400 with 4 Axes>"
      ]
     },
     "metadata": {},
     "output_type": "display_data"
    },
    {
     "name": "stdout",
     "output_type": "stream",
     "text": [
      "=== OUTLIER DETECTION (IQR Method) ===\n",
      "id: 0 outliers (0.00%)\n",
      "\n",
      "age: 0 outliers (0.00%)\n",
      "\n",
      "income: 7 outliers (0.70%)\n",
      "  Range: [12893.36, 89276.19]\n",
      "  Outlier values: [np.float64(6556.1693270946635), np.float64(9546.700355876426), np.float64(10235.45287410482), np.float64(11134.365617826348), np.float64(11691.182976470678), np.float64(12508.914276896401), np.float64(89485.73097256086)]\n",
      "\n",
      "score: 0 outliers (0.00%)\n",
      "\n"
     ]
    }
   ],
   "source": [
    "# Box plots for outlier detection\n",
    "if len(numerical_cols) > 0:\n",
    "    fig, axes = plt.subplots(1, min(len(numerical_cols), 4), figsize=(16, 4))\n",
    "    if len(numerical_cols) == 1:\n",
    "        axes = [axes]\n",
    "    \n",
    "    for i, col in enumerate(numerical_cols[:4]):\n",
    "        if i < len(axes):\n",
    "            df.boxplot(column=col, ax=axes[i])\n",
    "            axes[i].set_title(f'Box Plot: {col}')\n",
    "    \n",
    "    plt.tight_layout()\n",
    "    plt.show()\n",
    "    \n",
    "    # Statistical outlier detection using IQR\n",
    "    print(\"=== OUTLIER DETECTION (IQR Method) ===\")\n",
    "    for col in numerical_cols:\n",
    "        Q1 = df[col].quantile(0.25)\n",
    "        Q3 = df[col].quantile(0.75)\n",
    "        IQR = Q3 - Q1\n",
    "        lower_bound = Q1 - 1.5 * IQR\n",
    "        upper_bound = Q3 + 1.5 * IQR\n",
    "        \n",
    "        outliers = df[(df[col] < lower_bound) | (df[col] > upper_bound)]\n",
    "        outlier_count = len(outliers)\n",
    "        outlier_percentage = (outlier_count / len(df)) * 100\n",
    "        \n",
    "        print(f\"{col}: {outlier_count} outliers ({outlier_percentage:.2f}%)\")\n",
    "        if outlier_count > 0:\n",
    "            print(f\"  Range: [{lower_bound:.2f}, {upper_bound:.2f}]\")\n",
    "            print(f\"  Outlier values: {sorted(outliers[col].values)[:10]}...\" if outlier_count > 10 else f\"  Outlier values: {sorted(outliers[col].values)}\")\n",
    "        print()\n",
    "else:\n",
    "    print(\"No numerical columns found for outlier detection.\")"
   ]
  },
  {
   "cell_type": "markdown",
   "id": "3339c574",
   "metadata": {},
   "source": [
    "## 7. Summary and Next Steps"
   ]
  },
  {
   "cell_type": "code",
   "execution_count": 13,
   "id": "a84cce8e",
   "metadata": {},
   "outputs": [
    {
     "name": "stdout",
     "output_type": "stream",
     "text": [
      "=== DATASET SUMMARY ===\n",
      "Dataset shape: (1000, 6)\n",
      "Numerical columns: 4\n",
      "Categorical columns: 2\n",
      "Missing values: 50\n",
      "Duplicate rows: 0\n",
      "\n",
      "=== NEXT STEPS ===\n",
      "1. Handle missing values if any\n",
      "2. Remove or investigate outliers\n",
      "3. Feature engineering if needed\n",
      "4. Prepare data for modeling\n",
      "5. Save cleaned data to '../data/processed/'\n",
      "\n",
      "=== RECOMMENDED ACTIONS ===\n",
      "• Address missing values\n",
      "• Consider scaling numerical features\n",
      "• Encode categorical variables if needed\n",
      "\n",
      "Exploration complete! 🎉\n"
     ]
    }
   ],
   "source": [
    "print(\"=== DATASET SUMMARY ===\")\n",
    "print(f\"Dataset shape: {df.shape}\")\n",
    "print(f\"Numerical columns: {len(numerical_cols)}\")\n",
    "print(f\"Categorical columns: {len(categorical_cols)}\")\n",
    "print(f\"Missing values: {df.isnull().sum().sum()}\")\n",
    "print(f\"Duplicate rows: {df.duplicated().sum()}\")\n",
    "\n",
    "print(\"\\n=== NEXT STEPS ===\")\n",
    "print(\"1. Handle missing values if any\")\n",
    "print(\"2. Remove or investigate outliers\")\n",
    "print(\"3. Feature engineering if needed\")\n",
    "print(\"4. Prepare data for modeling\")\n",
    "print(\"5. Save cleaned data to '../data/processed/'\")\n",
    "\n",
    "print(\"\\n=== RECOMMENDED ACTIONS ===\")\n",
    "if df.isnull().sum().sum() > 0:\n",
    "    print(\"• Address missing values\")\n",
    "if df.duplicated().sum() > 0:\n",
    "    print(\"• Remove duplicate rows\")\n",
    "if len(numerical_cols) > 0:\n",
    "    print(\"• Consider scaling numerical features\")\n",
    "if len(categorical_cols) > 0:\n",
    "    print(\"• Encode categorical variables if needed\")\n",
    "\n",
    "print(\"\\nExploration complete! 🎉\")"
   ]
  },
  {
   "cell_type": "markdown",
   "id": "4fe706a5",
   "metadata": {},
   "source": [
    "## 8. Save Processed Data (Optional)"
   ]
  },
  {
   "cell_type": "code",
   "execution_count": 14,
   "id": "002918d7",
   "metadata": {},
   "outputs": [
    {
     "name": "stdout",
     "output_type": "stream",
     "text": [
      "Data processing template ready for your customization!\n"
     ]
    }
   ],
   "source": [
    "# Uncomment the lines below to save your processed data\n",
    "\n",
    "# # Create a copy for processing\n",
    "# df_processed = df.copy()\n",
    "\n",
    "# # Apply any cleaning steps here\n",
    "# # Example: df_processed = df_processed.dropna()\n",
    "# # Example: df_processed = df_processed.drop_duplicates()\n",
    "\n",
    "# # Save to processed data folder\n",
    "# import os\n",
    "# os.makedirs('../data/processed', exist_ok=True)\n",
    "# df_processed.to_csv('../data/processed/cleaned_dataset.csv', index=False)\n",
    "# print(\"Processed data saved to '../data/processed/cleaned_dataset.csv'\")\n",
    "\n",
    "print(\"Data processing template ready for your customization!\")"
   ]
  }
 ],
 "metadata": {
  "kernelspec": {
   "display_name": "Python 3 (ipykernel)",
   "language": "python",
   "name": "python3"
  },
  "language_info": {
   "codemirror_mode": {
    "name": "ipython",
    "version": 3
   },
   "file_extension": ".py",
   "mimetype": "text/x-python",
   "name": "python",
   "nbconvert_exporter": "python",
   "pygments_lexer": "ipython3",
   "version": "3.13.7"
  }
 },
 "nbformat": 4,
 "nbformat_minor": 5
}
